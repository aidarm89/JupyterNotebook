{
 "cells": [
  {
   "cell_type": "markdown",
   "id": "97ec0e1f-a6c5-471e-b78b-20b5bce46dab",
   "metadata": {},
   "source": [
    "# Data Science Tools and Ecosystem"
   ]
  },
  {
   "cell_type": "markdown",
   "id": "08926134-fa25-4dff-a742-6d70c0f304c5",
   "metadata": {},
   "source": [
    "In this notebook, Data Science Tools and Ecosystems are summarized"
   ]
  },
  {
   "cell_type": "markdown",
   "id": "19de4601-4ab1-4196-8202-0407bb26dbe7",
   "metadata": {},
   "source": [
    "**Objectives**\n",
    "* Popular languages for Data Science\n",
    "* Commonly used libraries for Data Science\n",
    "* Common Data Science Tools\n",
    "* Arithmetic expressions in Python"
   ]
  },
  {
   "cell_type": "markdown",
   "id": "9a8540bc-fd83-470b-9c60-4b28d2d878ab",
   "metadata": {},
   "source": [
    "Some of the most popular languages that Data Scientists use are:\n",
    "1. Python\n",
    "2. SQL\n",
    "3. R"
   ]
  },
  {
   "cell_type": "markdown",
   "id": "3e24aaf4-b818-4c2a-a1d6-d61a5af437b6",
   "metadata": {},
   "source": [
    "Some of the most commonly used libraries used by Data Scientists include:\n",
    "1. Matplotlib\n",
    "2. Pandas\n",
    "3. Plotly"
   ]
  },
  {
   "cell_type": "markdown",
   "id": "32a9a982-2f2b-45c9-bfd8-eb1b9820ab35",
   "metadata": {},
   "source": [
    "| Data Science Tools |\n",
    "|:--------------------|\n",
    "| Jupyter |\n",
    "| RStudio |\n",
    "| MySQL |\n"
   ]
  },
  {
   "cell_type": "markdown",
   "id": "59b9526f-9735-459f-a296-702d8a54e037",
   "metadata": {},
   "source": [
    "### Below are a few examples of evaluating arithmetic expressions in Python"
   ]
  },
  {
   "cell_type": "code",
   "execution_count": 5,
   "id": "7f7cf334-a388-4449-bba2-715eaec92749",
   "metadata": {},
   "outputs": [
    {
     "data": {
      "text/plain": [
       "17"
      ]
     },
     "execution_count": 5,
     "metadata": {},
     "output_type": "execute_result"
    }
   ],
   "source": [
    "#This is a simple arithmetic expression to multiply and then add integers\n",
    "(3*4)+5"
   ]
  },
  {
   "cell_type": "code",
   "execution_count": 6,
   "id": "229b5ead-312d-4133-bbad-edfc8f4f8abf",
   "metadata": {},
   "outputs": [
    {
     "data": {
      "text/plain": [
       "3.3333333333333335"
      ]
     },
     "execution_count": 6,
     "metadata": {},
     "output_type": "execute_result"
    }
   ],
   "source": [
    "#This will convert 200 minutes to hours by dividing by 60\n",
    "(200/60)"
   ]
  },
  {
   "cell_type": "markdown",
   "id": "1100da22-3aeb-4a58-a60c-4deb4daf5bc3",
   "metadata": {},
   "source": [
    "## Author\n",
    "Aida Ramirez Marrujo"
   ]
  },
  {
   "cell_type": "code",
   "execution_count": null,
   "id": "ce283df0-aa4b-48d0-a2d5-850801b74735",
   "metadata": {},
   "outputs": [],
   "source": []
  }
 ],
 "metadata": {
  "kernelspec": {
   "display_name": "Python 3 (ipykernel)",
   "language": "python",
   "name": "python3"
  },
  "language_info": {
   "codemirror_mode": {
    "name": "ipython",
    "version": 3
   },
   "file_extension": ".py",
   "mimetype": "text/x-python",
   "name": "python",
   "nbconvert_exporter": "python",
   "pygments_lexer": "ipython3",
   "version": "3.11.7"
  }
 },
 "nbformat": 4,
 "nbformat_minor": 5
}
